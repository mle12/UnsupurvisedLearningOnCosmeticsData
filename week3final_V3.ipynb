{
  "nbformat": 4,
  "nbformat_minor": 0,
  "metadata": {
    "colab": {
      "name": "week3final_V3.ipynb",
      "provenance": [],
      "collapsed_sections": []
    },
    "kernelspec": {
      "display_name": "Python 3",
      "language": "python",
      "name": "python3"
    },
    "language_info": {
      "codemirror_mode": {
        "name": "ipython",
        "version": 3
      },
      "file_extension": ".py",
      "mimetype": "text/x-python",
      "name": "python",
      "nbconvert_exporter": "python",
      "pygments_lexer": "ipython3",
      "version": "3.7.7"
    }
  },
  "cells": [
    {
      "cell_type": "markdown",
      "metadata": {
        "id": "1ggXLdNuAGoi"
      },
      "source": [
        "## Today you are a Machine Learning Engineer at the Department of Business Intelligence at Target Cosmetics!\n",
        "This work relies on processed data from Kaggle https://www.kaggle.com/mkechinov/ecommerce-events-history-in-cosmetics-shop\n",
        "\n",
        "This work is motivated by the publication https://arxiv.org/pdf/2010.02503.pdf and https://arxiv.org/pdf/2102.01625.pdf\n",
        "\n",
        "This data is similar to the Ecommerce data we looked at last week, but for cosmetics retail. Also, the data indicating time-of-day, day-of-week, month, and year of the purchase have been converted to one-hot representations of these categories.\n",
        "\n",
        "Our objective in this notebook will be to discover some structure in this data by applying some of the **unsupervised learning** methods covered in class this week.\n",
        "\n",
        "You have access to 250,000 user-journeys and you have been asked to:\n",
        "1. Find patterns among customer purchasing behaviors to identify categories of customers, i.e. how many categories of customers are there based on their purchasing behavior?\n",
        "2. Visually inspect the customer categories to identify the distinctive categories and their most important features."
      ]
    },
    {
      "cell_type": "markdown",
      "metadata": {
        "id": "EOeCwyxypaFz"
      },
      "source": [
        "## Task 1: Load in data and do some feature selection"
      ]
    },
    {
      "cell_type": "markdown",
      "metadata": {
        "id": "3XAWWl-t1Qr-"
      },
      "source": [
        "If running in Google Colab, run this first:"
      ]
    },
    {
      "cell_type": "code",
      "metadata": {
        "colab": {
          "base_uri": "https://localhost:8080/"
        },
        "id": "udBEolpnuWxO",
        "outputId": "74ee1728-c0e7-43b0-c684-51a47f69cd42"
      },
      "source": [
        "from google.colab import drive\n",
        "drive.mount('/content/drive')"
      ],
      "execution_count": 1,
      "outputs": [
        {
          "output_type": "stream",
          "text": [
            "Mounted at /content/drive\n"
          ],
          "name": "stdout"
        }
      ]
    },
    {
      "cell_type": "code",
      "metadata": {
        "id": "jnRNgZ6gxHwm"
      },
      "source": [
        "import pandas as pd"
      ],
      "execution_count": 2,
      "outputs": []
    },
    {
      "cell_type": "code",
      "metadata": {
        "id": "mhcwhWDYwZad"
      },
      "source": [
        "# this is where my copy of the data is, you should change this for your needs\n",
        "df = pd.read_csv(\"/content/drive/My Drive/Cosmetics_data_2019.csv\")"
      ],
      "execution_count": 4,
      "outputs": []
    },
    {
      "cell_type": "code",
      "metadata": {
        "colab": {
          "base_uri": "https://localhost:8080/",
          "height": 224
        },
        "id": "z4l5NtcyxGVL",
        "outputId": "44a50427-8c03-487c-9c1c-077a7d745445"
      },
      "source": [
        "df.head()"
      ],
      "execution_count": 5,
      "outputs": [
        {
          "output_type": "execute_result",
          "data": {
            "text/html": [
              "<div>\n",
              "<style scoped>\n",
              "    .dataframe tbody tr th:only-of-type {\n",
              "        vertical-align: middle;\n",
              "    }\n",
              "\n",
              "    .dataframe tbody tr th {\n",
              "        vertical-align: top;\n",
              "    }\n",
              "\n",
              "    .dataframe thead th {\n",
              "        text-align: right;\n",
              "    }\n",
              "</style>\n",
              "<table border=\"1\" class=\"dataframe\">\n",
              "  <thead>\n",
              "    <tr style=\"text-align: right;\">\n",
              "      <th></th>\n",
              "      <th>user_id</th>\n",
              "      <th>product_id</th>\n",
              "      <th>NumOfEventsInJourney</th>\n",
              "      <th>NumSessions</th>\n",
              "      <th>interactionTime</th>\n",
              "      <th>maxPrice</th>\n",
              "      <th>minPrice</th>\n",
              "      <th>NumCart</th>\n",
              "      <th>NumView</th>\n",
              "      <th>NumRemove</th>\n",
              "      <th>InsessionCart</th>\n",
              "      <th>InsessionView</th>\n",
              "      <th>InsessionRemove</th>\n",
              "      <th>Weekend</th>\n",
              "      <th>Fr</th>\n",
              "      <th>Mon</th>\n",
              "      <th>Sat</th>\n",
              "      <th>Sun</th>\n",
              "      <th>Thu</th>\n",
              "      <th>Tue</th>\n",
              "      <th>Wed</th>\n",
              "      <th>2019</th>\n",
              "      <th>2020</th>\n",
              "      <th>Jan</th>\n",
              "      <th>Feb</th>\n",
              "      <th>Oct</th>\n",
              "      <th>Nov</th>\n",
              "      <th>Dec</th>\n",
              "      <th>Afternoon</th>\n",
              "      <th>Dawn</th>\n",
              "      <th>EarlyMorning</th>\n",
              "      <th>Evening</th>\n",
              "      <th>Morning</th>\n",
              "      <th>Night</th>\n",
              "      <th>Noon</th>\n",
              "      <th>Purchase</th>\n",
              "    </tr>\n",
              "  </thead>\n",
              "  <tbody>\n",
              "    <tr>\n",
              "      <th>0</th>\n",
              "      <td>537190108</td>\n",
              "      <td>27762</td>\n",
              "      <td>2</td>\n",
              "      <td>2</td>\n",
              "      <td>4749</td>\n",
              "      <td>19.03</td>\n",
              "      <td>19.03</td>\n",
              "      <td>0</td>\n",
              "      <td>1</td>\n",
              "      <td>1</td>\n",
              "      <td>1</td>\n",
              "      <td>2</td>\n",
              "      <td>6</td>\n",
              "      <td>0</td>\n",
              "      <td>0</td>\n",
              "      <td>0</td>\n",
              "      <td>1</td>\n",
              "      <td>0</td>\n",
              "      <td>0</td>\n",
              "      <td>0</td>\n",
              "      <td>0</td>\n",
              "      <td>1</td>\n",
              "      <td>0</td>\n",
              "      <td>0</td>\n",
              "      <td>0</td>\n",
              "      <td>0</td>\n",
              "      <td>1</td>\n",
              "      <td>0</td>\n",
              "      <td>0</td>\n",
              "      <td>0</td>\n",
              "      <td>0</td>\n",
              "      <td>0</td>\n",
              "      <td>1</td>\n",
              "      <td>0</td>\n",
              "      <td>0</td>\n",
              "      <td>0</td>\n",
              "    </tr>\n",
              "    <tr>\n",
              "      <th>1</th>\n",
              "      <td>577668451</td>\n",
              "      <td>5865119</td>\n",
              "      <td>1</td>\n",
              "      <td>1</td>\n",
              "      <td>0</td>\n",
              "      <td>4.60</td>\n",
              "      <td>4.60</td>\n",
              "      <td>0</td>\n",
              "      <td>1</td>\n",
              "      <td>0</td>\n",
              "      <td>0</td>\n",
              "      <td>1</td>\n",
              "      <td>0</td>\n",
              "      <td>0</td>\n",
              "      <td>0</td>\n",
              "      <td>0</td>\n",
              "      <td>0</td>\n",
              "      <td>0</td>\n",
              "      <td>0</td>\n",
              "      <td>0</td>\n",
              "      <td>1</td>\n",
              "      <td>1</td>\n",
              "      <td>0</td>\n",
              "      <td>0</td>\n",
              "      <td>0</td>\n",
              "      <td>0</td>\n",
              "      <td>1</td>\n",
              "      <td>0</td>\n",
              "      <td>1</td>\n",
              "      <td>0</td>\n",
              "      <td>0</td>\n",
              "      <td>0</td>\n",
              "      <td>0</td>\n",
              "      <td>0</td>\n",
              "      <td>0</td>\n",
              "      <td>0</td>\n",
              "    </tr>\n",
              "    <tr>\n",
              "      <th>2</th>\n",
              "      <td>607369766</td>\n",
              "      <td>5922121</td>\n",
              "      <td>1</td>\n",
              "      <td>1</td>\n",
              "      <td>0</td>\n",
              "      <td>35.71</td>\n",
              "      <td>35.71</td>\n",
              "      <td>0</td>\n",
              "      <td>1</td>\n",
              "      <td>0</td>\n",
              "      <td>0</td>\n",
              "      <td>1</td>\n",
              "      <td>0</td>\n",
              "      <td>0</td>\n",
              "      <td>0</td>\n",
              "      <td>0</td>\n",
              "      <td>0</td>\n",
              "      <td>0</td>\n",
              "      <td>0</td>\n",
              "      <td>1</td>\n",
              "      <td>0</td>\n",
              "      <td>0</td>\n",
              "      <td>1</td>\n",
              "      <td>1</td>\n",
              "      <td>0</td>\n",
              "      <td>0</td>\n",
              "      <td>0</td>\n",
              "      <td>0</td>\n",
              "      <td>0</td>\n",
              "      <td>0</td>\n",
              "      <td>0</td>\n",
              "      <td>1</td>\n",
              "      <td>0</td>\n",
              "      <td>0</td>\n",
              "      <td>0</td>\n",
              "      <td>0</td>\n",
              "    </tr>\n",
              "    <tr>\n",
              "      <th>3</th>\n",
              "      <td>572456715</td>\n",
              "      <td>5723529</td>\n",
              "      <td>1</td>\n",
              "      <td>1</td>\n",
              "      <td>0</td>\n",
              "      <td>2.94</td>\n",
              "      <td>2.94</td>\n",
              "      <td>1</td>\n",
              "      <td>0</td>\n",
              "      <td>0</td>\n",
              "      <td>13</td>\n",
              "      <td>13</td>\n",
              "      <td>16</td>\n",
              "      <td>0</td>\n",
              "      <td>0</td>\n",
              "      <td>0</td>\n",
              "      <td>0</td>\n",
              "      <td>1</td>\n",
              "      <td>0</td>\n",
              "      <td>0</td>\n",
              "      <td>0</td>\n",
              "      <td>1</td>\n",
              "      <td>0</td>\n",
              "      <td>0</td>\n",
              "      <td>0</td>\n",
              "      <td>0</td>\n",
              "      <td>1</td>\n",
              "      <td>0</td>\n",
              "      <td>0</td>\n",
              "      <td>0</td>\n",
              "      <td>1</td>\n",
              "      <td>0</td>\n",
              "      <td>0</td>\n",
              "      <td>0</td>\n",
              "      <td>0</td>\n",
              "      <td>0</td>\n",
              "    </tr>\n",
              "    <tr>\n",
              "      <th>4</th>\n",
              "      <td>566667766</td>\n",
              "      <td>5823646</td>\n",
              "      <td>1</td>\n",
              "      <td>1</td>\n",
              "      <td>0</td>\n",
              "      <td>5.22</td>\n",
              "      <td>5.22</td>\n",
              "      <td>0</td>\n",
              "      <td>1</td>\n",
              "      <td>0</td>\n",
              "      <td>0</td>\n",
              "      <td>3</td>\n",
              "      <td>0</td>\n",
              "      <td>0</td>\n",
              "      <td>1</td>\n",
              "      <td>0</td>\n",
              "      <td>0</td>\n",
              "      <td>0</td>\n",
              "      <td>0</td>\n",
              "      <td>0</td>\n",
              "      <td>0</td>\n",
              "      <td>0</td>\n",
              "      <td>1</td>\n",
              "      <td>0</td>\n",
              "      <td>1</td>\n",
              "      <td>0</td>\n",
              "      <td>0</td>\n",
              "      <td>0</td>\n",
              "      <td>0</td>\n",
              "      <td>0</td>\n",
              "      <td>0</td>\n",
              "      <td>1</td>\n",
              "      <td>0</td>\n",
              "      <td>0</td>\n",
              "      <td>0</td>\n",
              "      <td>0</td>\n",
              "    </tr>\n",
              "  </tbody>\n",
              "</table>\n",
              "</div>"
            ],
            "text/plain": [
              "     user_id  product_id  NumOfEventsInJourney  ...  Night  Noon  Purchase\n",
              "0  537190108       27762                     2  ...      0     0         0\n",
              "1  577668451     5865119                     1  ...      0     0         0\n",
              "2  607369766     5922121                     1  ...      0     0         0\n",
              "3  572456715     5723529                     1  ...      0     0         0\n",
              "4  566667766     5823646                     1  ...      0     0         0\n",
              "\n",
              "[5 rows x 36 columns]"
            ]
          },
          "metadata": {},
          "execution_count": 5
        }
      ]
    },
    {
      "cell_type": "code",
      "metadata": {
        "id": "RiEtO2vfAGoq"
      },
      "source": [
        "# Importing some libraries we'll use\n",
        "import os\n",
        "import tensorflow as tf   #<-- first time using tensorflow in this course!\n",
        "from tensorboard.plugins import projector  # tensorboard for visualizing dimensionality reduction\n",
        "import numpy as np\n",
        "from matplotlib import pyplot as plt\n",
        "from sklearn.preprocessing import StandardScaler\n",
        "from sklearn.decomposition import PCA\n",
        "import seaborn as sb"
      ],
      "execution_count": 6,
      "outputs": []
    },
    {
      "cell_type": "code",
      "metadata": {
        "colab": {
          "base_uri": "https://localhost:8080/"
        },
        "id": "uSm6dt8RAGo3",
        "outputId": "d19ae9b5-542d-4802-837a-412bd1f8191e"
      },
      "source": [
        "YY=df.loc[:,'Purchase'].values\n",
        "print(f'Percentage of interactions resulting in a purchase = {(np.sum(YY)/len(YY))*100}')"
      ],
      "execution_count": 7,
      "outputs": [
        {
          "output_type": "stream",
          "text": [
            "Percentage of interactions resulting in a purchase = 12.0684\n"
          ],
          "name": "stdout"
        }
      ]
    },
    {
      "cell_type": "markdown",
      "metadata": {
        "id": "DagFtXknox2k"
      },
      "source": [
        "This is a alot higher than we had for the electronics data! For cosmetics data, there appears to be less \"window shopping,\" shopping around without buying. When people come to this ecommerce site they're overall more likely to make a purchase."
      ]
    },
    {
      "cell_type": "markdown",
      "metadata": {
        "id": "RP7Y8J7dm6lW"
      },
      "source": [
        "Create a matrix of features (AKA the \"design matrix\") `X` from every column in the dataframe, except for `'user_id'`, `'product_id'`, and `Purchase`. We won't be using `'user_id'` and `'product_id'` as features in this demo. The `Purchase` column is like a \"label\", but we're doing unsupervised learning so we won't use it in fitting the learning model. (we will use it later just to analyze how good our unsupervised learning was). Go ahead and drop `'user_id'` and `'product_id'` from the original DataFrame as well."
      ]
    },
    {
      "cell_type": "code",
      "metadata": {
        "colab": {
          "base_uri": "https://localhost:8080/",
          "height": 224
        },
        "id": "0hmxyZxpAGpB",
        "outputId": "6584e6e3-65d6-42ae-fa81-79091c4969ce"
      },
      "source": [
        "### START CODE HERE ###\n",
        "X  = df.iloc[:,2:-1].values\n",
        "df = df.drop(columns=['user_id','product_id'])\n",
        "### END CODE HERE ###\n",
        "# Display the first few rows of the modified DataFrame\n",
        "df.head()"
      ],
      "execution_count": 8,
      "outputs": [
        {
          "output_type": "execute_result",
          "data": {
            "text/html": [
              "<div>\n",
              "<style scoped>\n",
              "    .dataframe tbody tr th:only-of-type {\n",
              "        vertical-align: middle;\n",
              "    }\n",
              "\n",
              "    .dataframe tbody tr th {\n",
              "        vertical-align: top;\n",
              "    }\n",
              "\n",
              "    .dataframe thead th {\n",
              "        text-align: right;\n",
              "    }\n",
              "</style>\n",
              "<table border=\"1\" class=\"dataframe\">\n",
              "  <thead>\n",
              "    <tr style=\"text-align: right;\">\n",
              "      <th></th>\n",
              "      <th>NumOfEventsInJourney</th>\n",
              "      <th>NumSessions</th>\n",
              "      <th>interactionTime</th>\n",
              "      <th>maxPrice</th>\n",
              "      <th>minPrice</th>\n",
              "      <th>NumCart</th>\n",
              "      <th>NumView</th>\n",
              "      <th>NumRemove</th>\n",
              "      <th>InsessionCart</th>\n",
              "      <th>InsessionView</th>\n",
              "      <th>InsessionRemove</th>\n",
              "      <th>Weekend</th>\n",
              "      <th>Fr</th>\n",
              "      <th>Mon</th>\n",
              "      <th>Sat</th>\n",
              "      <th>Sun</th>\n",
              "      <th>Thu</th>\n",
              "      <th>Tue</th>\n",
              "      <th>Wed</th>\n",
              "      <th>2019</th>\n",
              "      <th>2020</th>\n",
              "      <th>Jan</th>\n",
              "      <th>Feb</th>\n",
              "      <th>Oct</th>\n",
              "      <th>Nov</th>\n",
              "      <th>Dec</th>\n",
              "      <th>Afternoon</th>\n",
              "      <th>Dawn</th>\n",
              "      <th>EarlyMorning</th>\n",
              "      <th>Evening</th>\n",
              "      <th>Morning</th>\n",
              "      <th>Night</th>\n",
              "      <th>Noon</th>\n",
              "      <th>Purchase</th>\n",
              "    </tr>\n",
              "  </thead>\n",
              "  <tbody>\n",
              "    <tr>\n",
              "      <th>0</th>\n",
              "      <td>2</td>\n",
              "      <td>2</td>\n",
              "      <td>4749</td>\n",
              "      <td>19.03</td>\n",
              "      <td>19.03</td>\n",
              "      <td>0</td>\n",
              "      <td>1</td>\n",
              "      <td>1</td>\n",
              "      <td>1</td>\n",
              "      <td>2</td>\n",
              "      <td>6</td>\n",
              "      <td>0</td>\n",
              "      <td>0</td>\n",
              "      <td>0</td>\n",
              "      <td>1</td>\n",
              "      <td>0</td>\n",
              "      <td>0</td>\n",
              "      <td>0</td>\n",
              "      <td>0</td>\n",
              "      <td>1</td>\n",
              "      <td>0</td>\n",
              "      <td>0</td>\n",
              "      <td>0</td>\n",
              "      <td>0</td>\n",
              "      <td>1</td>\n",
              "      <td>0</td>\n",
              "      <td>0</td>\n",
              "      <td>0</td>\n",
              "      <td>0</td>\n",
              "      <td>0</td>\n",
              "      <td>1</td>\n",
              "      <td>0</td>\n",
              "      <td>0</td>\n",
              "      <td>0</td>\n",
              "    </tr>\n",
              "    <tr>\n",
              "      <th>1</th>\n",
              "      <td>1</td>\n",
              "      <td>1</td>\n",
              "      <td>0</td>\n",
              "      <td>4.60</td>\n",
              "      <td>4.60</td>\n",
              "      <td>0</td>\n",
              "      <td>1</td>\n",
              "      <td>0</td>\n",
              "      <td>0</td>\n",
              "      <td>1</td>\n",
              "      <td>0</td>\n",
              "      <td>0</td>\n",
              "      <td>0</td>\n",
              "      <td>0</td>\n",
              "      <td>0</td>\n",
              "      <td>0</td>\n",
              "      <td>0</td>\n",
              "      <td>0</td>\n",
              "      <td>1</td>\n",
              "      <td>1</td>\n",
              "      <td>0</td>\n",
              "      <td>0</td>\n",
              "      <td>0</td>\n",
              "      <td>0</td>\n",
              "      <td>1</td>\n",
              "      <td>0</td>\n",
              "      <td>1</td>\n",
              "      <td>0</td>\n",
              "      <td>0</td>\n",
              "      <td>0</td>\n",
              "      <td>0</td>\n",
              "      <td>0</td>\n",
              "      <td>0</td>\n",
              "      <td>0</td>\n",
              "    </tr>\n",
              "    <tr>\n",
              "      <th>2</th>\n",
              "      <td>1</td>\n",
              "      <td>1</td>\n",
              "      <td>0</td>\n",
              "      <td>35.71</td>\n",
              "      <td>35.71</td>\n",
              "      <td>0</td>\n",
              "      <td>1</td>\n",
              "      <td>0</td>\n",
              "      <td>0</td>\n",
              "      <td>1</td>\n",
              "      <td>0</td>\n",
              "      <td>0</td>\n",
              "      <td>0</td>\n",
              "      <td>0</td>\n",
              "      <td>0</td>\n",
              "      <td>0</td>\n",
              "      <td>0</td>\n",
              "      <td>1</td>\n",
              "      <td>0</td>\n",
              "      <td>0</td>\n",
              "      <td>1</td>\n",
              "      <td>1</td>\n",
              "      <td>0</td>\n",
              "      <td>0</td>\n",
              "      <td>0</td>\n",
              "      <td>0</td>\n",
              "      <td>0</td>\n",
              "      <td>0</td>\n",
              "      <td>0</td>\n",
              "      <td>1</td>\n",
              "      <td>0</td>\n",
              "      <td>0</td>\n",
              "      <td>0</td>\n",
              "      <td>0</td>\n",
              "    </tr>\n",
              "    <tr>\n",
              "      <th>3</th>\n",
              "      <td>1</td>\n",
              "      <td>1</td>\n",
              "      <td>0</td>\n",
              "      <td>2.94</td>\n",
              "      <td>2.94</td>\n",
              "      <td>1</td>\n",
              "      <td>0</td>\n",
              "      <td>0</td>\n",
              "      <td>13</td>\n",
              "      <td>13</td>\n",
              "      <td>16</td>\n",
              "      <td>0</td>\n",
              "      <td>0</td>\n",
              "      <td>0</td>\n",
              "      <td>0</td>\n",
              "      <td>1</td>\n",
              "      <td>0</td>\n",
              "      <td>0</td>\n",
              "      <td>0</td>\n",
              "      <td>1</td>\n",
              "      <td>0</td>\n",
              "      <td>0</td>\n",
              "      <td>0</td>\n",
              "      <td>0</td>\n",
              "      <td>1</td>\n",
              "      <td>0</td>\n",
              "      <td>0</td>\n",
              "      <td>0</td>\n",
              "      <td>1</td>\n",
              "      <td>0</td>\n",
              "      <td>0</td>\n",
              "      <td>0</td>\n",
              "      <td>0</td>\n",
              "      <td>0</td>\n",
              "    </tr>\n",
              "    <tr>\n",
              "      <th>4</th>\n",
              "      <td>1</td>\n",
              "      <td>1</td>\n",
              "      <td>0</td>\n",
              "      <td>5.22</td>\n",
              "      <td>5.22</td>\n",
              "      <td>0</td>\n",
              "      <td>1</td>\n",
              "      <td>0</td>\n",
              "      <td>0</td>\n",
              "      <td>3</td>\n",
              "      <td>0</td>\n",
              "      <td>0</td>\n",
              "      <td>1</td>\n",
              "      <td>0</td>\n",
              "      <td>0</td>\n",
              "      <td>0</td>\n",
              "      <td>0</td>\n",
              "      <td>0</td>\n",
              "      <td>0</td>\n",
              "      <td>0</td>\n",
              "      <td>1</td>\n",
              "      <td>0</td>\n",
              "      <td>1</td>\n",
              "      <td>0</td>\n",
              "      <td>0</td>\n",
              "      <td>0</td>\n",
              "      <td>0</td>\n",
              "      <td>0</td>\n",
              "      <td>0</td>\n",
              "      <td>1</td>\n",
              "      <td>0</td>\n",
              "      <td>0</td>\n",
              "      <td>0</td>\n",
              "      <td>0</td>\n",
              "    </tr>\n",
              "  </tbody>\n",
              "</table>\n",
              "</div>"
            ],
            "text/plain": [
              "   NumOfEventsInJourney  NumSessions  interactionTime  ...  Night  Noon  Purchase\n",
              "0                     2            2             4749  ...      0     0         0\n",
              "1                     1            1                0  ...      0     0         0\n",
              "2                     1            1                0  ...      0     0         0\n",
              "3                     1            1                0  ...      0     0         0\n",
              "4                     1            1                0  ...      0     0         0\n",
              "\n",
              "[5 rows x 34 columns]"
            ]
          },
          "metadata": {},
          "execution_count": 8
        }
      ]
    },
    {
      "cell_type": "markdown",
      "metadata": {
        "id": "tU_8ozi5pZJA"
      },
      "source": [
        "It's good to get in the habit of encapsulating functionality you want to reuse in functions/modules outside of individual notebooks--using a separate library of functions increases the modularity of your code, eliminating the need to copy and paste this code into every notebook where you want to use it. We've provided a python file called `helper_functions_for_week3.py` that has one such function in it. Read through the function and see if you recognize it from last week!"
      ]
    },
    {
      "cell_type": "markdown",
      "metadata": {
        "id": "dTrxDJXrrh5q"
      },
      "source": [
        "We want to import `helper_functions_for_week3.py` but we need to make sure Python can find the file--if you're developing locally this is straightforward, but if you're using Colab you have a few options:\n"
      ]
    },
    {
      "cell_type": "markdown",
      "metadata": {
        "id": "nZjYZNSMt3iG"
      },
      "source": [
        "**Option 1**\n",
        "\n",
        "Append the mounted Google Drive directory containing the file to the system path\n"
      ]
    },
    {
      "cell_type": "code",
      "metadata": {
        "colab": {
          "base_uri": "https://localhost:8080/"
        },
        "id": "eozYipw4k1v0",
        "outputId": "3f2bbd7c-e595-4465-880d-96241f7d6373"
      },
      "source": [
        "cd MyDrive/\n"
      ],
      "execution_count": 22,
      "outputs": [
        {
          "output_type": "stream",
          "text": [
            "/content/drive/MyDrive\n"
          ],
          "name": "stdout"
        }
      ]
    },
    {
      "cell_type": "code",
      "metadata": {
        "id": "5VRtL9QKuEXJ"
      },
      "source": [
        "import sys\n",
        "sys.path.append('/content/drive/MyDrive/helper_functions_for_week3.py/') # This is where I stored helper_functions_for_week3.py in Google Drive"
      ],
      "execution_count": 23,
      "outputs": []
    },
    {
      "cell_type": "markdown",
      "metadata": {
        "id": "UHr7Ai1xuFvC"
      },
      "source": [
        "**Option 2**\n",
        "\n",
        "Upload the file directly to this virtual machine:\n",
        "\n",
        "<img src='https://drive.google.com/uc?id=1k5OeIG_RrMQcBzyRR8LfhemdB3ZUFQCa' width=\"300\">"
      ]
    },
    {
      "cell_type": "markdown",
      "metadata": {
        "id": "Kd1Py9jivqiF"
      },
      "source": [
        "**Option 3**\n",
        "\n",
        "Use the PyDrive module, [follow the instructions here](https://colab.research.google.com/notebooks/io.ipynb#scrollTo=7taylj9wpsA2)."
      ]
    },
    {
      "cell_type": "code",
      "metadata": {
        "id": "XxpPZNjLAGpD"
      },
      "source": [
        "from helper_functions_for_week3 import *\n",
        "#^ Importing everything from this file, if you want to add your own method of feature selection,\n",
        "#  put it in helper_functions_for_week3.py and try using it below!"
      ],
      "execution_count": 24,
      "outputs": []
    },
    {
      "cell_type": "markdown",
      "metadata": {
        "id": "ATqe8cyGAGpG"
      },
      "source": [
        "Now use the function we've imported (or one you wrote yourself, if you prefer) to select a subset of the features that appear informative. Create a new NumPy array `X_train` that only retains these features."
      ]
    },
    {
      "cell_type": "code",
      "metadata": {
        "colab": {
          "base_uri": "https://localhost:8080/",
          "height": 859
        },
        "id": "G0EeGGnWAGpM",
        "outputId": "7bfa3044-5df6-4c4c-ad50-45162e29ba60"
      },
      "source": [
        "### START CODE HERE ###\n",
        "indices, importances = return_feature_rank_from_RF(X,YY)\n",
        "### END CODE HERE ###"
      ],
      "execution_count": 26,
      "outputs": [
        {
          "output_type": "stream",
          "text": [
            "Feature ranking:\n",
            "1. feature 7 (0.171403)\n",
            "2. feature 0 (0.168439)\n",
            "3. feature 5 (0.117723)\n",
            "4. feature 6 (0.101453)\n",
            "5. feature 2 (0.082864)\n",
            "6. feature 1 (0.062956)\n",
            "7. feature 10 (0.054205)\n",
            "8. feature 8 (0.053166)\n",
            "9. feature 4 (0.044448)\n",
            "10. feature 3 (0.042576)\n",
            "11. feature 9 (0.042194)\n",
            "12. feature 18 (0.004516)\n",
            "13. feature 26 (0.004165)\n",
            "14. feature 16 (0.004153)\n",
            "15. feature 13 (0.004037)\n",
            "16. feature 15 (0.003799)\n",
            "17. feature 12 (0.003794)\n",
            "18. feature 14 (0.003670)\n",
            "19. feature 28 (0.003655)\n",
            "20. feature 17 (0.003609)\n",
            "21. feature 27 (0.002778)\n",
            "22. feature 31 (0.002557)\n",
            "23. feature 29 (0.002411)\n",
            "24. feature 32 (0.002275)\n",
            "25. feature 25 (0.002271)\n",
            "26. feature 30 (0.002067)\n",
            "27. feature 23 (0.001911)\n",
            "28. feature 21 (0.001789)\n",
            "29. feature 22 (0.001690)\n",
            "30. feature 24 (0.001622)\n",
            "31. feature 19 (0.000926)\n",
            "32. feature 20 (0.000880)\n",
            "33. feature 11 (0.000000)\n"
          ],
          "name": "stdout"
        },
        {
          "output_type": "display_data",
          "data": {
            "image/png": "[encoded data removed]",
            "text/plain": [
              "<Figure size 432x288 with 1 Axes>"
            ]
          },
          "metadata": {
            "needs_background": "light"
          }
        }
      ]
    },
    {
      "cell_type": "markdown",
      "metadata": {
        "id": "92XqVLMkyX_2"
      },
      "source": [
        "It appears the there is a sharp dropoff in (random forest) feature importance at 0.025. This may be due to the one-hot encoding we've used for some of these features, but for the sake of illustration we're just going to drop drop all these features. "
      ]
    },
    {
      "cell_type": "code",
      "metadata": {
        "colab": {
          "base_uri": "https://localhost:8080/"
        },
        "id": "eS0XlXXuAGpO",
        "outputId": "589897ab-5ca4-4228-d1ed-4bda7dc4900d"
      },
      "source": [
        "# Extract the indices corresponding to a feature importance > 0.025\n",
        "idx = np.where(importances > 0.025)\n",
        "# Extract the names of the associated feature columns\n",
        "selected_columns = df.columns[idx]\n",
        "print('The retained columns/features were:')\n",
        "print(selected_columns)\n",
        "X_train = df[selected_columns].values"
      ],
      "execution_count": 27,
      "outputs": [
        {
          "output_type": "stream",
          "text": [
            "The retained columns/features were:\n",
            "Index(['NumOfEventsInJourney', 'NumSessions', 'interactionTime', 'maxPrice',\n",
            "       'minPrice', 'NumCart', 'NumView', 'NumRemove', 'InsessionCart',\n",
            "       'InsessionView', 'InsessionRemove'],\n",
            "      dtype='object')\n"
          ],
          "name": "stdout"
        }
      ]
    },
    {
      "cell_type": "code",
      "metadata": {
        "colab": {
          "base_uri": "https://localhost:8080/"
        },
        "id": "VQ8Kihlnzq1U",
        "outputId": "c1615308-00fc-495d-f5fd-0c47c6dd00ed"
      },
      "source": [
        "print('The shape of X_train is', X_train.shape)"
      ],
      "execution_count": 28,
      "outputs": [
        {
          "output_type": "stream",
          "text": [
            "The shape of X_train is (250000, 11)\n"
          ],
          "name": "stdout"
        }
      ]
    },
    {
      "cell_type": "markdown",
      "metadata": {
        "id": "qRuVLj0lAGpT"
      },
      "source": [
        "## Task 2: Apply dimensionality reduction and K-means clustering\n",
        "\n",
        "We're going to do two main things in this task: \n",
        "  1. Apply dimensionality reduction to `X_train`\n",
        "    * First we'll try PCA, reducing the number of features down to **5**\n",
        "    * Then we'll also try t-SNE. t-SNE is a lot slower than PCA so we'll have you run t-SNE on a smaller subsample of the data, and we'll use 3 instead of 5 output features.\n",
        "  2. Apply K-means clustering on the dimensionality-reduced data, using different values of \"K\". This is one way of assessing the quality of the dimensionality reduction. We'll summarize all this information in a single plot, the \"Elbow\" plot."
      ]
    },
    {
      "cell_type": "markdown",
      "metadata": {
        "id": "WIG5CclFvlLO"
      },
      "source": [
        "Use the sklearn `PCA` module you've imported above to produce `X_reduced_PCA`, a version of the data in `X_train` has been dimensionality-reduced by PCA. Use 5 PCA components, so `X_reduced_PCA` should have 5 columns.  "
      ]
    },
    {
      "cell_type": "code",
      "metadata": {
        "colab": {
          "base_uri": "https://localhost:8080/"
        },
        "id": "9Y9DVVG9AGpU",
        "outputId": "d15baafc-4790-4fe5-c8b9-d0bf52b96aad"
      },
      "source": [
        "### START CODE HERE ###\n",
        "pca = PCA(n_components=5)\n",
        "X_reduced_PCA = pca.fit_transform(X_train)\n",
        "### END CODE HERE ###\n",
        "print(X_reduced_PCA.shape)"
      ],
      "execution_count": 29,
      "outputs": [
        {
          "output_type": "stream",
          "text": [
            "(250000, 5)\n"
          ],
          "name": "stdout"
        }
      ]
    },
    {
      "cell_type": "markdown",
      "metadata": {
        "id": "gDX2qLQE8QB2"
      },
      "source": [
        "Now do dimensionality reduction with t-SNE. You can used the [TSNE module](https://scikit-learn.org/stable/modules/generated/sklearn.manifold.TSNE.html) in `sklearn.manifold`\n",
        "\n",
        "Certain implementations of t-SNE can be slow, including scikit-learn's, so just fit it on the first 10000 samples of your data. Also, pick n_components=3 and perplexity=20. This can take a little while, be patient :)\n",
        "\n",
        "Save the t-SNE-reduced version of your data as `X_reduced_tSNE`"
      ]
    },
    {
      "cell_type": "code",
      "metadata": {
        "id": "IuGJg2UPAGpZ"
      },
      "source": [
        "import sklearn.manifold\n",
        "### START CODE HERE ###\n",
        "tsne_op = sklearn.manifold.TSNE(n_components=3, perplexity=5)\n",
        "X_reduced_tSNE = np.array(tsne_op.fit_transform(X_train[0:10000,:]))\n",
        "### END CODE HERE ###"
      ],
      "execution_count": 30,
      "outputs": []
    },
    {
      "cell_type": "markdown",
      "metadata": {
        "id": "kteTq2wZ9a_q"
      },
      "source": [
        "Now we'll use the [KMeans module](https://scikit-learn.org/stable/modules/generated/sklearn.cluster.KMeans.html?highlight=kmeans#sklearn.cluster.KMeans) in sklearn.cluster, to fit Kmeans clusterings of the data. We don't know the best value of K (the number of clusters) *a priori*, so let's try all values of $k \\in [1, 20]$. We can automate this with the [KElbowVisualizer module](https://www.scikit-yb.org/en/latest/api/cluster/elbow.html) of the Yellowbrick visualization library. Read the documentation of KElbowVisualizer to see how you can wrap a Kmeans model with a KElbowVisualizer, and generate an elbow plot. Generate elbow plots for both the PCA-reduced data and the t-SNE-reduced data"
      ]
    },
    {
      "cell_type": "markdown",
      "metadata": {
        "id": "8Aft5am5j3Y0"
      },
      "source": [
        "If you are running this in Colab, the version of Yellowbricks that comes preinstalled is probably fairly old, you should try to force an update to the latest version of Yellowbricks"
      ]
    },
    {
      "cell_type": "code",
      "metadata": {
        "colab": {
          "base_uri": "https://localhost:8080/"
        },
        "id": "Sf9wUjakj3Y0",
        "outputId": "9a0755fa-73ca-4e9c-882f-8b2296d14095"
      },
      "source": [
        "!pip install --upgrade yellowbrick"
      ],
      "execution_count": 31,
      "outputs": [
        {
          "output_type": "stream",
          "text": [
            "Requirement already satisfied: yellowbrick in /usr/local/lib/python3.7/dist-packages (0.9.1)\n",
            "Collecting yellowbrick\n",
            "  Downloading yellowbrick-1.3.post1-py3-none-any.whl (271 kB)\n",
            "\u001b[K     |████████████████████████████████| 271 kB 5.1 MB/s \n",
            "\u001b[?25hRequirement already satisfied: numpy<1.20,>=1.16.0 in /usr/local/lib/python3.7/dist-packages (from yellowbrick) (1.19.5)\n",
            "Requirement already satisfied: matplotlib!=3.0.0,>=2.0.2 in /usr/local/lib/python3.7/dist-packages (from yellowbrick) (3.2.2)\n",
            "Requirement already satisfied: scikit-learn>=0.20 in /usr/local/lib/python3.7/dist-packages (from yellowbrick) (0.22.2.post1)\n",
            "Requirement already satisfied: cycler>=0.10.0 in /usr/local/lib/python3.7/dist-packages (from yellowbrick) (0.10.0)\n",
            "Requirement already satisfied: scipy>=1.0.0 in /usr/local/lib/python3.7/dist-packages (from yellowbrick) (1.4.1)\n",
            "Requirement already satisfied: six in /usr/local/lib/python3.7/dist-packages (from cycler>=0.10.0->yellowbrick) (1.15.0)\n",
            "Requirement already satisfied: kiwisolver>=1.0.1 in /usr/local/lib/python3.7/dist-packages (from matplotlib!=3.0.0,>=2.0.2->yellowbrick) (1.3.1)\n",
            "Requirement already satisfied: pyparsing!=2.0.4,!=2.1.2,!=2.1.6,>=2.0.1 in /usr/local/lib/python3.7/dist-packages (from matplotlib!=3.0.0,>=2.0.2->yellowbrick) (2.4.7)\n",
            "Requirement already satisfied: python-dateutil>=2.1 in /usr/local/lib/python3.7/dist-packages (from matplotlib!=3.0.0,>=2.0.2->yellowbrick) (2.8.2)\n",
            "Requirement already satisfied: joblib>=0.11 in /usr/local/lib/python3.7/dist-packages (from scikit-learn>=0.20->yellowbrick) (1.0.1)\n",
            "Installing collected packages: yellowbrick\n",
            "  Attempting uninstall: yellowbrick\n",
            "    Found existing installation: yellowbrick 0.9.1\n",
            "    Uninstalling yellowbrick-0.9.1:\n",
            "      Successfully uninstalled yellowbrick-0.9.1\n",
            "Successfully installed yellowbrick-1.3.post1\n"
          ],
          "name": "stdout"
        }
      ]
    },
    {
      "cell_type": "code",
      "metadata": {
        "id": "MSFn9DH6_4Ch"
      },
      "source": [
        "from sklearn.cluster import KMeans\n",
        "from yellowbrick.cluster import KElbowVisualizer"
      ],
      "execution_count": 32,
      "outputs": []
    },
    {
      "cell_type": "code",
      "metadata": {
        "colab": {
          "base_uri": "https://localhost:8080/",
          "height": 531
        },
        "id": "gsFpQiEkAGpX",
        "outputId": "3cedaeb3-6104-434d-fe6d-e5329c50213f"
      },
      "source": [
        "# fit the KElbow visualizer for the PCA-reduced data\n",
        "\n",
        "### START CODE HERE ###\n",
        "# Instantiate the clustering model and visualizer\n",
        "kmeans_PCA = KMeans()\n",
        "visualizer_PCA = KElbowVisualizer(kmeans_PCA, k=(1,20))\n",
        "# Fit the visualizer to the reduced features data\n",
        "visualizer_PCA.fit(X_reduced_PCA)\n",
        "### END CODE HERE ###\n",
        "# the plots may look a little different depending on whether you're doing this locally or in Colab\n",
        "# If the axis labels don't display in Colab, refer to the documentation link above for an example\n",
        "# figure with the axis labels"
      ],
      "execution_count": 33,
      "outputs": [
        {
          "output_type": "stream",
          "text": [
            "/usr/local/lib/python3.7/dist-packages/sklearn/base.py:197: FutureWarning: From version 0.24, get_params will raise an AttributeError if a parameter cannot be retrieved as an instance attribute. Previously it would return None.\n",
            "  FutureWarning)\n"
          ],
          "name": "stderr"
        },
        {
          "output_type": "execute_result",
          "data": {
            "text/plain": [
              "KElbowVisualizer(ax=<matplotlib.axes._subplots.AxesSubplot object at 0x7fb32e614310>,\n",
              "                 estimator=KMeans(algorithm='auto', copy_x=True,\n",
              "                                  init='k-means++', max_iter=300, n_clusters=19,\n",
              "                                  n_init=10, n_jobs=None,\n",
              "                                  precompute_distances='auto',\n",
              "                                  random_state=None, tol=0.0001, verbose=0),\n",
              "                 k=None, locate_elbow=True, metric='distortion', timings=True)"
            ]
          },
          "metadata": {},
          "execution_count": 33
        },
        {
          "output_type": "display_data",
          "data": {
            "image/png": "[encoded data removed]",
            "text/plain": [
              "<Figure size 576x396 with 2 Axes>"
            ]
          },
          "metadata": {}
        }
      ]
    },
    {
      "cell_type": "code",
      "metadata": {
        "id": "ZRwEni6yACrE",
        "colab": {
          "base_uri": "https://localhost:8080/",
          "height": 531
        },
        "outputId": "bb00a2a4-86ee-4adf-fc85-b87edbdf736b"
      },
      "source": [
        "# do the same thing for the t-SNE-reduced data\n",
        "\n",
        "### START CODE HERE ###\n",
        "# Instantiate the clustering model and visualizer\n",
        "kmeans_tSNE = KMeans()\n",
        "visualizer_tSNE = KElbowVisualizer(kmeans_tSNE, k=(1,20))\n",
        "# Fit the visualizer to the reduced features data\n",
        "visualizer_tSNE.fit(X_reduced_tSNE)\n",
        "### END CODE HERE ###\n",
        "# the plots may look a little different depending on whether you're doing this locally or in Colab\n",
        "# If the axis labels don't display in Colab, refer to the documentation link above for an example\n",
        "# figure with the axis labels"
      ],
      "execution_count": 34,
      "outputs": [
        {
          "output_type": "stream",
          "text": [
            "/usr/local/lib/python3.7/dist-packages/sklearn/base.py:197: FutureWarning: From version 0.24, get_params will raise an AttributeError if a parameter cannot be retrieved as an instance attribute. Previously it would return None.\n",
            "  FutureWarning)\n"
          ],
          "name": "stderr"
        },
        {
          "output_type": "execute_result",
          "data": {
            "text/plain": [
              "KElbowVisualizer(ax=<matplotlib.axes._subplots.AxesSubplot object at 0x7fb32e518b50>,\n",
              "                 estimator=KMeans(algorithm='auto', copy_x=True,\n",
              "                                  init='k-means++', max_iter=300, n_clusters=19,\n",
              "                                  n_init=10, n_jobs=None,\n",
              "                                  precompute_distances='auto',\n",
              "                                  random_state=None, tol=0.0001, verbose=0),\n",
              "                 k=None, locate_elbow=True, metric='distortion', timings=True)"
            ]
          },
          "metadata": {},
          "execution_count": 34
        },
        {
          "output_type": "display_data",
          "data": {
            "image/png": "[encoded data removed]",
            "text/plain": [
              "<Figure size 576x396 with 2 Axes>"
            ]
          },
          "metadata": {}
        }
      ]
    },
    {
      "cell_type": "markdown",
      "metadata": {
        "id": "VFHtdkZSBu01"
      },
      "source": [
        "Discuss with your breakout room partners what you can learn from these Elbow plots."
      ]
    },
    {
      "cell_type": "markdown",
      "metadata": {
        "id": "0IxaAYc863u1"
      },
      "source": [
        "Pick a value of K to use for clustering PCA, based on the plots you have above. Then generate an array `cluster_ids` that labels each datapoint in `X_reduced_PCA` with the cluster ID (0...K-1) that Kmeans assigns to it, when it is fit with that value of K."
      ]
    },
    {
      "cell_type": "code",
      "metadata": {
        "colab": {
          "base_uri": "https://localhost:8080/"
        },
        "id": "_kz0uVfFAGpd",
        "outputId": "fb426c5f-f60b-430f-f4f2-e5f182f93763"
      },
      "source": [
        "### START CODE HERE \n",
        "k_pca = 3  # This is fairly arbitrary, but I'll pick k=3 here for ease of visualization\n",
        "# Instantiate the clustering model\n",
        "model = KMeans(n_clusters = k_pca)\n",
        "# Assign the points in the reduced dataset to clusters\n",
        "cluster_ids = np.array(model.fit_predict(X_reduced_PCA))\n",
        "### END CODE HERE ###\n",
        "print('The unique cluster ids are ', np.unique(cluster_ids))"
      ],
      "execution_count": 35,
      "outputs": [
        {
          "output_type": "stream",
          "text": [
            "The unique cluster ids are  [0 1 2]\n"
          ],
          "name": "stdout"
        }
      ]
    },
    {
      "cell_type": "markdown",
      "metadata": {
        "id": "MzxNlpDbFXjj"
      },
      "source": [
        "Now we create a new version of the feature-reduced data that has these cluster ids in it, and save this as a .csv file to disk:"
      ]
    },
    {
      "cell_type": "code",
      "metadata": {
        "colab": {
          "base_uri": "https://localhost:8080/",
          "height": 204
        },
        "id": "mcbhp5GPFZGJ",
        "outputId": "3ecba5d8-12cb-482e-ad7f-5a8ceff5567d"
      },
      "source": [
        "selected_columns = ['NumOfEventsInJourney', 'NumSessions', 'interactionTime', 'maxPrice',\n",
        "       'minPrice', 'NumCart', 'NumView', 'NumRemove', 'InsessionCart',\n",
        "       'InsessionView', 'InsessionRemove']\n",
        "#^ these were columns I ended up selecting after the first step of Random Forest feature pruning, \n",
        "# you could change these to whatever you ended up using\n",
        "temp_df = pd.DataFrame(df[selected_columns])\n",
        "temp_df['Purchase'] = df.iloc[:,-1]\n",
        "temp_df['ClusterID'] = cluster_ids\n",
        "temp_df.head()"
      ],
      "execution_count": 36,
      "outputs": [
        {
          "output_type": "execute_result",
          "data": {
            "text/html": [
              "<div>\n",
              "<style scoped>\n",
              "    .dataframe tbody tr th:only-of-type {\n",
              "        vertical-align: middle;\n",
              "    }\n",
              "\n",
              "    .dataframe tbody tr th {\n",
              "        vertical-align: top;\n",
              "    }\n",
              "\n",
              "    .dataframe thead th {\n",
              "        text-align: right;\n",
              "    }\n",
              "</style>\n",
              "<table border=\"1\" class=\"dataframe\">\n",
              "  <thead>\n",
              "    <tr style=\"text-align: right;\">\n",
              "      <th></th>\n",
              "      <th>NumOfEventsInJourney</th>\n",
              "      <th>NumSessions</th>\n",
              "      <th>interactionTime</th>\n",
              "      <th>maxPrice</th>\n",
              "      <th>minPrice</th>\n",
              "      <th>NumCart</th>\n",
              "      <th>NumView</th>\n",
              "      <th>NumRemove</th>\n",
              "      <th>InsessionCart</th>\n",
              "      <th>InsessionView</th>\n",
              "      <th>InsessionRemove</th>\n",
              "      <th>Purchase</th>\n",
              "      <th>ClusterID</th>\n",
              "    </tr>\n",
              "  </thead>\n",
              "  <tbody>\n",
              "    <tr>\n",
              "      <th>0</th>\n",
              "      <td>2</td>\n",
              "      <td>2</td>\n",
              "      <td>4749</td>\n",
              "      <td>19.03</td>\n",
              "      <td>19.03</td>\n",
              "      <td>0</td>\n",
              "      <td>1</td>\n",
              "      <td>1</td>\n",
              "      <td>1</td>\n",
              "      <td>2</td>\n",
              "      <td>6</td>\n",
              "      <td>0</td>\n",
              "      <td>0</td>\n",
              "    </tr>\n",
              "    <tr>\n",
              "      <th>1</th>\n",
              "      <td>1</td>\n",
              "      <td>1</td>\n",
              "      <td>0</td>\n",
              "      <td>4.60</td>\n",
              "      <td>4.60</td>\n",
              "      <td>0</td>\n",
              "      <td>1</td>\n",
              "      <td>0</td>\n",
              "      <td>0</td>\n",
              "      <td>1</td>\n",
              "      <td>0</td>\n",
              "      <td>0</td>\n",
              "      <td>0</td>\n",
              "    </tr>\n",
              "    <tr>\n",
              "      <th>2</th>\n",
              "      <td>1</td>\n",
              "      <td>1</td>\n",
              "      <td>0</td>\n",
              "      <td>35.71</td>\n",
              "      <td>35.71</td>\n",
              "      <td>0</td>\n",
              "      <td>1</td>\n",
              "      <td>0</td>\n",
              "      <td>0</td>\n",
              "      <td>1</td>\n",
              "      <td>0</td>\n",
              "      <td>0</td>\n",
              "      <td>0</td>\n",
              "    </tr>\n",
              "    <tr>\n",
              "      <th>3</th>\n",
              "      <td>1</td>\n",
              "      <td>1</td>\n",
              "      <td>0</td>\n",
              "      <td>2.94</td>\n",
              "      <td>2.94</td>\n",
              "      <td>1</td>\n",
              "      <td>0</td>\n",
              "      <td>0</td>\n",
              "      <td>13</td>\n",
              "      <td>13</td>\n",
              "      <td>16</td>\n",
              "      <td>0</td>\n",
              "      <td>0</td>\n",
              "    </tr>\n",
              "    <tr>\n",
              "      <th>4</th>\n",
              "      <td>1</td>\n",
              "      <td>1</td>\n",
              "      <td>0</td>\n",
              "      <td>5.22</td>\n",
              "      <td>5.22</td>\n",
              "      <td>0</td>\n",
              "      <td>1</td>\n",
              "      <td>0</td>\n",
              "      <td>0</td>\n",
              "      <td>3</td>\n",
              "      <td>0</td>\n",
              "      <td>0</td>\n",
              "      <td>0</td>\n",
              "    </tr>\n",
              "  </tbody>\n",
              "</table>\n",
              "</div>"
            ],
            "text/plain": [
              "   NumOfEventsInJourney  NumSessions  ...  Purchase  ClusterID\n",
              "0                     2            2  ...         0          0\n",
              "1                     1            1  ...         0          0\n",
              "2                     1            1  ...         0          0\n",
              "3                     1            1  ...         0          0\n",
              "4                     1            1  ...         0          0\n",
              "\n",
              "[5 rows x 13 columns]"
            ]
          },
          "metadata": {},
          "execution_count": 36
        }
      ]
    },
    {
      "cell_type": "code",
      "metadata": {
        "id": "8Zg8dtuLAGpn"
      },
      "source": [
        "temp_df.to_csv('Clustered_data_cosmetics.csv', index=False)"
      ],
      "execution_count": 37,
      "outputs": []
    },
    {
      "cell_type": "markdown",
      "metadata": {
        "id": "HB-SZFqUAGpr"
      },
      "source": [
        "## Task 3: Visualize the clusters [Instructor Led]\n",
        "Tutorial on Tensorboard's embedding projector + Colab: https://colab.research.google.com/drive/1-PUVjf4eNO8QzF27lbBg6OT-yTNlBgD7"
      ]
    },
    {
      "cell_type": "code",
      "metadata": {
        "colab": {
          "base_uri": "https://localhost:8080/",
          "height": 204
        },
        "id": "vmsreBzSAGpr",
        "outputId": "12dd3461-ccdd-4b6f-96d6-d273a7d18bed"
      },
      "source": [
        "#Load the data with clustering labels\n",
        "X_train = pd.read_csv(\"Clustered_data_cosmetics.csv\")\n",
        "X=X_train.iloc[:,0:-2].values\n",
        "\n",
        "X_train.head()"
      ],
      "execution_count": 38,
      "outputs": [
        {
          "output_type": "execute_result",
          "data": {
            "text/html": [
              "<div>\n",
              "<style scoped>\n",
              "    .dataframe tbody tr th:only-of-type {\n",
              "        vertical-align: middle;\n",
              "    }\n",
              "\n",
              "    .dataframe tbody tr th {\n",
              "        vertical-align: top;\n",
              "    }\n",
              "\n",
              "    .dataframe thead th {\n",
              "        text-align: right;\n",
              "    }\n",
              "</style>\n",
              "<table border=\"1\" class=\"dataframe\">\n",
              "  <thead>\n",
              "    <tr style=\"text-align: right;\">\n",
              "      <th></th>\n",
              "      <th>NumOfEventsInJourney</th>\n",
              "      <th>NumSessions</th>\n",
              "      <th>interactionTime</th>\n",
              "      <th>maxPrice</th>\n",
              "      <th>minPrice</th>\n",
              "      <th>NumCart</th>\n",
              "      <th>NumView</th>\n",
              "      <th>NumRemove</th>\n",
              "      <th>InsessionCart</th>\n",
              "      <th>InsessionView</th>\n",
              "      <th>InsessionRemove</th>\n",
              "      <th>Purchase</th>\n",
              "      <th>ClusterID</th>\n",
              "    </tr>\n",
              "  </thead>\n",
              "  <tbody>\n",
              "    <tr>\n",
              "      <th>0</th>\n",
              "      <td>2</td>\n",
              "      <td>2</td>\n",
              "      <td>4749</td>\n",
              "      <td>19.03</td>\n",
              "      <td>19.03</td>\n",
              "      <td>0</td>\n",
              "      <td>1</td>\n",
              "      <td>1</td>\n",
              "      <td>1</td>\n",
              "      <td>2</td>\n",
              "      <td>6</td>\n",
              "      <td>0</td>\n",
              "      <td>0</td>\n",
              "    </tr>\n",
              "    <tr>\n",
              "      <th>1</th>\n",
              "      <td>1</td>\n",
              "      <td>1</td>\n",
              "      <td>0</td>\n",
              "      <td>4.60</td>\n",
              "      <td>4.60</td>\n",
              "      <td>0</td>\n",
              "      <td>1</td>\n",
              "      <td>0</td>\n",
              "      <td>0</td>\n",
              "      <td>1</td>\n",
              "      <td>0</td>\n",
              "      <td>0</td>\n",
              "      <td>0</td>\n",
              "    </tr>\n",
              "    <tr>\n",
              "      <th>2</th>\n",
              "      <td>1</td>\n",
              "      <td>1</td>\n",
              "      <td>0</td>\n",
              "      <td>35.71</td>\n",
              "      <td>35.71</td>\n",
              "      <td>0</td>\n",
              "      <td>1</td>\n",
              "      <td>0</td>\n",
              "      <td>0</td>\n",
              "      <td>1</td>\n",
              "      <td>0</td>\n",
              "      <td>0</td>\n",
              "      <td>0</td>\n",
              "    </tr>\n",
              "    <tr>\n",
              "      <th>3</th>\n",
              "      <td>1</td>\n",
              "      <td>1</td>\n",
              "      <td>0</td>\n",
              "      <td>2.94</td>\n",
              "      <td>2.94</td>\n",
              "      <td>1</td>\n",
              "      <td>0</td>\n",
              "      <td>0</td>\n",
              "      <td>13</td>\n",
              "      <td>13</td>\n",
              "      <td>16</td>\n",
              "      <td>0</td>\n",
              "      <td>0</td>\n",
              "    </tr>\n",
              "    <tr>\n",
              "      <th>4</th>\n",
              "      <td>1</td>\n",
              "      <td>1</td>\n",
              "      <td>0</td>\n",
              "      <td>5.22</td>\n",
              "      <td>5.22</td>\n",
              "      <td>0</td>\n",
              "      <td>1</td>\n",
              "      <td>0</td>\n",
              "      <td>0</td>\n",
              "      <td>3</td>\n",
              "      <td>0</td>\n",
              "      <td>0</td>\n",
              "      <td>0</td>\n",
              "    </tr>\n",
              "  </tbody>\n",
              "</table>\n",
              "</div>"
            ],
            "text/plain": [
              "   NumOfEventsInJourney  NumSessions  ...  Purchase  ClusterID\n",
              "0                     2            2  ...         0          0\n",
              "1                     1            1  ...         0          0\n",
              "2                     1            1  ...         0          0\n",
              "3                     1            1  ...         0          0\n",
              "4                     1            1  ...         0          0\n",
              "\n",
              "[5 rows x 13 columns]"
            ]
          },
          "metadata": {},
          "execution_count": 38
        }
      ]
    },
    {
      "cell_type": "code",
      "metadata": {
        "id": "_Ro7_dTyAGpw"
      },
      "source": [
        "#version 1\n",
        "def register_embedding(embedding_tensor_name, meta_data_fname, log_dir):\n",
        "    config = projector.ProjectorConfig()\n",
        "    embedding = config.embeddings.add()\n",
        "    embedding.tensor_name = embedding_tensor_name\n",
        "    embedding.metadata_path = meta_data_fname\n",
        "    projector.visualize_embeddings(log_dir, config)\n",
        "\n",
        "def save_labels_tsv(labels, filepath, log_dir):\n",
        "    with open(os.path.join(log_dir, filepath), 'w') as f:\n",
        "        for label in labels:\n",
        "            f.write('{}\\n'.format(label))\n"
      ],
      "execution_count": 39,
      "outputs": []
    },
    {
      "cell_type": "markdown",
      "metadata": {
        "id": "e2UY3WNyK6z0"
      },
      "source": [
        "We need to create a directory where we can store logs for tensorboard to use"
      ]
    },
    {
      "cell_type": "code",
      "metadata": {
        "id": "pISugJ7TAGot"
      },
      "source": [
        "## Get working directory\n",
        "PATH = os.getcwd()\n",
        "## Path to save the embedding and checkpoints generated\n",
        "os.mkdir(PATH + '/project-tensorboard/')\n",
        "LOG_DIR = PATH + '/project-tensorboard/log-1'\n",
        "os.mkdir(LOG_DIR)"
      ],
      "execution_count": 40,
      "outputs": []
    },
    {
      "cell_type": "code",
      "metadata": {
        "id": "E_a-gke2AGpy"
      },
      "source": [
        "META_DATA_FNAME = 'meta_cos_reduction1.tsv'  # Labels will be stored here\n",
        "EMBEDDINGS_TENSOR_NAME = 'sample_data_cos_reduction1'\n",
        "EMBEDDINGS_FPATH = os.path.join(LOG_DIR, EMBEDDINGS_TENSOR_NAME + '.ckpt')\n",
        "STEP = 0\n",
        "\n",
        "register_embedding(EMBEDDINGS_TENSOR_NAME, META_DATA_FNAME, LOG_DIR)\n",
        "save_labels_tsv(cluster_ids, META_DATA_FNAME, LOG_DIR) #version 1"
      ],
      "execution_count": 41,
      "outputs": []
    },
    {
      "cell_type": "code",
      "metadata": {
        "id": "YziMhdGEAGp1"
      },
      "source": [
        "tf.compat.v1.disable_eager_execution()\n",
        "tensor_embeddings = tf.Variable(X, name=EMBEDDINGS_TENSOR_NAME)\n",
        "sess = tf.compat.v1.InteractiveSession()\n",
        "sess.run(tf.compat.v1.global_variables_initializer())\n",
        "saver = tf.compat.v1.train.Saver()\n",
        "saver.save(sess, EMBEDDINGS_FPATH, STEP)\n",
        "sess.close()"
      ],
      "execution_count": 42,
      "outputs": []
    },
    {
      "cell_type": "markdown",
      "metadata": {
        "id": "ta5fQ-gNPmJR"
      },
      "source": [
        "If you're running this notebook locally, you can start tensorboard from the command line `tensorboard --logdir <path to the log directory>`. \n",
        "\n",
        "But to use it *embedded in a Colab notebook* you have to do the following"
      ]
    },
    {
      "cell_type": "code",
      "metadata": {
        "id": "NPDjKWuAPTIc"
      },
      "source": [
        "try:\n",
        "  # %tensorflow_version only exists in Colab.\n",
        "  %tensorflow_version 2.x\n",
        "except Exception:\n",
        "  pass\n",
        "\n",
        "%load_ext tensorboard"
      ],
      "execution_count": 43,
      "outputs": []
    },
    {
      "cell_type": "code",
      "metadata": {
        "id": "0VOu2Q4QPFrA"
      },
      "source": [
        "%tensorboard --logdir /content/project-tensorboard/log-1/"
      ],
      "execution_count": null,
      "outputs": []
    },
    {
      "cell_type": "code",
      "metadata": {
        "id": "-WdbFR1qAGp3"
      },
      "source": [
        "#Attach an image of the optimal clusters and their relative position in t-SNE"
      ],
      "execution_count": null,
      "outputs": []
    },
    {
      "cell_type": "markdown",
      "metadata": {
        "id": "SgmFyvbMAGp5"
      },
      "source": [
        "### Task 4: Analysis of clusters.\n",
        "Now that the records have been clustered, do the following 2 tasks:\n",
        "1. Do the different clusters vary in their purchase ratio? If so by how much?\n",
        "2. Plot the discriminating charecteristics of each feature to separate purchase vs not-purchase events. You could do this many ways, it's up to you. One suggestion we'll give is to use a seaborn distplot on each feature separately. You can do this one cluster at a time to see if there are any big differences between the distributions of feature values for different clusters."
      ]
    },
    {
      "cell_type": "code",
      "metadata": {
        "id": "MuCS3KK1AGp6"
      },
      "source": [
        "column_values = X_train[\"ClusterID\"].values.ravel()\n",
        "unique_cluster_ids_unsorted = np.array(pd.unique(column_values))\n",
        "unique_cluster_ids = np.sort(unique_cluster_ids_unsorted)"
      ],
      "execution_count": 45,
      "outputs": []
    },
    {
      "cell_type": "markdown",
      "metadata": {
        "id": "4l93Jjag-QSu"
      },
      "source": [
        "### Exercise: For each cluster, calculate the representation percentage (i.e. what percentage of the dataset's samples belong to that cluster) and purchase percentage (i.e. what percentage of samples in each cluster resulted in a purchase)"
      ]
    },
    {
      "cell_type": "code",
      "metadata": {
        "id": "HJQDN9KKAGp8"
      },
      "source": [
        "### START CODE HERE ###\n",
        "# Initialize the percentages as arrays of zeros, with each zero representing a unique cluster ID\n",
        "purchase_percentage = np.zeros(np.shape(unique_cluster_ids))\n",
        "representation_percentage = np.zeros(np.shape(unique_cluster_ids))\n",
        "# Loop through the clusters\n",
        "for index, item in enumerate(unique_cluster_ids):\n",
        "    locations = X_train.loc[X_train['ClusterID'] == item]\n",
        "    purchase = locations.loc[locations['Purchase']==1]\n",
        "    representation_percentage[index] = round((locations.shape[0]/X_train.shape[0])*100, 2)\n",
        "    purchase_percentage[index] = round((purchase.shape[0]/locations.shape[0])*100, 2)\n",
        "### END CODE HERE ###"
      ],
      "execution_count": 46,
      "outputs": []
    },
    {
      "cell_type": "code",
      "metadata": {
        "colab": {
          "base_uri": "https://localhost:8080/",
          "height": 395
        },
        "id": "zbMCD-TeAGp-",
        "outputId": "1be78025-d4ce-4cc2-c549-60a3fdfa8aae"
      },
      "source": [
        "print('Representation Percentage=',(representation_percentage))\n",
        "print('Purchase Percentage=',purchase_percentage)\n",
        "import matplotlib.pyplot as plt\n",
        "plt.scatter(representation_percentage,purchase_percentage)\n",
        "plt.xlabel('Representation')\n",
        "plt.ylabel('Purchase Percentage')\n",
        "plt.show()"
      ],
      "execution_count": 47,
      "outputs": [
        {
          "output_type": "stream",
          "text": [
            "Representation Percentage= [94.21  1.47  4.32]\n",
            "Purchase Percentage= [11.52 26.11 19.17]\n"
          ],
          "name": "stdout"
        },
        {
          "output_type": "display_data",
          "data": {
            "image/png": "[encoded data removed]",
            "text/plain": [
              "<Figure size 576x396 with 1 Axes>"
            ]
          },
          "metadata": {}
        }
      ]
    },
    {
      "cell_type": "code",
      "metadata": {
        "colab": {
          "base_uri": "https://localhost:8080/"
        },
        "id": "npoSZxseAGqA",
        "outputId": "ad2a90ee-59c1-4fde-d3fb-a1c6e2c661c6"
      },
      "source": [
        "print(np.sum(purchase_percentage))"
      ],
      "execution_count": 48,
      "outputs": [
        {
          "output_type": "stream",
          "text": [
            "56.8\n"
          ],
          "name": "stdout"
        }
      ]
    },
    {
      "cell_type": "code",
      "metadata": {
        "id": "_k62gA56AGqC"
      },
      "source": [
        "total_purchase=X_train.loc[X_train['Purchase']==1]"
      ],
      "execution_count": 49,
      "outputs": []
    },
    {
      "cell_type": "code",
      "metadata": {
        "colab": {
          "base_uri": "https://localhost:8080/"
        },
        "id": "Kad6lHmEAGqE",
        "outputId": "22b37178-b621-4c97-9e74-6ec1f59ca58b"
      },
      "source": [
        "purchase_distrib=total_purchase.shape[0]/X_train.shape[0]\n",
        "print(purchase_distrib*100)"
      ],
      "execution_count": 50,
      "outputs": [
        {
          "output_type": "stream",
          "text": [
            "12.0684\n"
          ],
          "name": "stdout"
        }
      ]
    },
    {
      "cell_type": "markdown",
      "metadata": {
        "id": "GEF0tHT-AGqH"
      },
      "source": [
        "# This implies that cluster 0 represents 94% of the samples and has purchase ratio most similar to the overall purchase ratio. However, there exist smaller clusters with 1.4%, 4.3% population representation that represent higher purchase ratios (customers in those clusters are more sure to buy)"
      ]
    },
    {
      "cell_type": "code",
      "metadata": {
        "id": "K_hpTlQFAGqI",
        "colab": {
          "base_uri": "https://localhost:8080/",
          "height": 1000
        },
        "outputId": "9f8327cd-f478-43f0-ff1f-d953434831bb"
      },
      "source": [
        "# you could try something like this to look at feature distributions in cluster 0...\n",
        "\n",
        "#Cluster 0\n",
        "result = X_train.loc[X_train['ClusterID'] == 0]\n",
        "\n",
        "\n",
        "fig = plt.figure(figsize = (20, 25))\n",
        "j = 0\n",
        "for i,item in enumerate(result.columns):\n",
        "    plt.subplot(4, 4, j+1)\n",
        "    j += 1\n",
        "    sb.distplot(result[item][result['Purchase']==0], color='b', label = 'No Purchase')\n",
        "    sb.distplot(result[item][result['Purchase']==1], color='r', label = 'Purchase')\n",
        "    plt.legend(loc='best')\n",
        "fig.suptitle('Feature Analysis')\n",
        "fig.tight_layout()\n",
        "fig.subplots_adjust(top=0.95)\n",
        "plt.show()"
      ],
      "execution_count": 51,
      "outputs": [
        {
          "output_type": "stream",
          "text": [
            "/usr/local/lib/python3.7/dist-packages/seaborn/distributions.py:2557: FutureWarning: `distplot` is a deprecated function and will be removed in a future version. Please adapt your code to use either `displot` (a figure-level function with similar flexibility) or `histplot` (an axes-level function for histograms).\n",
            "  warnings.warn(msg, FutureWarning)\n",
            "/usr/local/lib/python3.7/dist-packages/seaborn/distributions.py:2557: FutureWarning: `distplot` is a deprecated function and will be removed in a future version. Please adapt your code to use either `displot` (a figure-level function with similar flexibility) or `histplot` (an axes-level function for histograms).\n",
            "  warnings.warn(msg, FutureWarning)\n",
            "/usr/local/lib/python3.7/dist-packages/seaborn/distributions.py:2557: FutureWarning: `distplot` is a deprecated function and will be removed in a future version. Please adapt your code to use either `displot` (a figure-level function with similar flexibility) or `histplot` (an axes-level function for histograms).\n",
            "  warnings.warn(msg, FutureWarning)\n",
            "/usr/local/lib/python3.7/dist-packages/seaborn/distributions.py:2557: FutureWarning: `distplot` is a deprecated function and will be removed in a future version. Please adapt your code to use either `displot` (a figure-level function with similar flexibility) or `histplot` (an axes-level function for histograms).\n",
            "  warnings.warn(msg, FutureWarning)\n",
            "/usr/local/lib/python3.7/dist-packages/seaborn/distributions.py:2557: FutureWarning: `distplot` is a deprecated function and will be removed in a future version. Please adapt your code to use either `displot` (a figure-level function with similar flexibility) or `histplot` (an axes-level function for histograms).\n",
            "  warnings.warn(msg, FutureWarning)\n",
            "/usr/local/lib/python3.7/dist-packages/seaborn/distributions.py:2557: FutureWarning: `distplot` is a deprecated function and will be removed in a future version. Please adapt your code to use either `displot` (a figure-level function with similar flexibility) or `histplot` (an axes-level function for histograms).\n",
            "  warnings.warn(msg, FutureWarning)\n",
            "/usr/local/lib/python3.7/dist-packages/seaborn/distributions.py:2557: FutureWarning: `distplot` is a deprecated function and will be removed in a future version. Please adapt your code to use either `displot` (a figure-level function with similar flexibility) or `histplot` (an axes-level function for histograms).\n",
            "  warnings.warn(msg, FutureWarning)\n",
            "/usr/local/lib/python3.7/dist-packages/seaborn/distributions.py:2557: FutureWarning: `distplot` is a deprecated function and will be removed in a future version. Please adapt your code to use either `displot` (a figure-level function with similar flexibility) or `histplot` (an axes-level function for histograms).\n",
            "  warnings.warn(msg, FutureWarning)\n",
            "/usr/local/lib/python3.7/dist-packages/seaborn/distributions.py:2557: FutureWarning: `distplot` is a deprecated function and will be removed in a future version. Please adapt your code to use either `displot` (a figure-level function with similar flexibility) or `histplot` (an axes-level function for histograms).\n",
            "  warnings.warn(msg, FutureWarning)\n",
            "/usr/local/lib/python3.7/dist-packages/seaborn/distributions.py:2557: FutureWarning: `distplot` is a deprecated function and will be removed in a future version. Please adapt your code to use either `displot` (a figure-level function with similar flexibility) or `histplot` (an axes-level function for histograms).\n",
            "  warnings.warn(msg, FutureWarning)\n",
            "/usr/local/lib/python3.7/dist-packages/seaborn/distributions.py:2557: FutureWarning: `distplot` is a deprecated function and will be removed in a future version. Please adapt your code to use either `displot` (a figure-level function with similar flexibility) or `histplot` (an axes-level function for histograms).\n",
            "  warnings.warn(msg, FutureWarning)\n",
            "/usr/local/lib/python3.7/dist-packages/seaborn/distributions.py:2557: FutureWarning: `distplot` is a deprecated function and will be removed in a future version. Please adapt your code to use either `displot` (a figure-level function with similar flexibility) or `histplot` (an axes-level function for histograms).\n",
            "  warnings.warn(msg, FutureWarning)\n",
            "/usr/local/lib/python3.7/dist-packages/seaborn/distributions.py:2557: FutureWarning: `distplot` is a deprecated function and will be removed in a future version. Please adapt your code to use either `displot` (a figure-level function with similar flexibility) or `histplot` (an axes-level function for histograms).\n",
            "  warnings.warn(msg, FutureWarning)\n",
            "/usr/local/lib/python3.7/dist-packages/seaborn/distributions.py:2557: FutureWarning: `distplot` is a deprecated function and will be removed in a future version. Please adapt your code to use either `displot` (a figure-level function with similar flexibility) or `histplot` (an axes-level function for histograms).\n",
            "  warnings.warn(msg, FutureWarning)\n",
            "/usr/local/lib/python3.7/dist-packages/seaborn/distributions.py:2557: FutureWarning: `distplot` is a deprecated function and will be removed in a future version. Please adapt your code to use either `displot` (a figure-level function with similar flexibility) or `histplot` (an axes-level function for histograms).\n",
            "  warnings.warn(msg, FutureWarning)\n",
            "/usr/local/lib/python3.7/dist-packages/seaborn/distributions.py:2557: FutureWarning: `distplot` is a deprecated function and will be removed in a future version. Please adapt your code to use either `displot` (a figure-level function with similar flexibility) or `histplot` (an axes-level function for histograms).\n",
            "  warnings.warn(msg, FutureWarning)\n",
            "/usr/local/lib/python3.7/dist-packages/seaborn/distributions.py:2557: FutureWarning: `distplot` is a deprecated function and will be removed in a future version. Please adapt your code to use either `displot` (a figure-level function with similar flexibility) or `histplot` (an axes-level function for histograms).\n",
            "  warnings.warn(msg, FutureWarning)\n",
            "/usr/local/lib/python3.7/dist-packages/seaborn/distributions.py:2557: FutureWarning: `distplot` is a deprecated function and will be removed in a future version. Please adapt your code to use either `displot` (a figure-level function with similar flexibility) or `histplot` (an axes-level function for histograms).\n",
            "  warnings.warn(msg, FutureWarning)\n",
            "/usr/local/lib/python3.7/dist-packages/seaborn/distributions.py:2557: FutureWarning: `distplot` is a deprecated function and will be removed in a future version. Please adapt your code to use either `displot` (a figure-level function with similar flexibility) or `histplot` (an axes-level function for histograms).\n",
            "  warnings.warn(msg, FutureWarning)\n",
            "/usr/local/lib/python3.7/dist-packages/seaborn/distributions.py:2557: FutureWarning: `distplot` is a deprecated function and will be removed in a future version. Please adapt your code to use either `displot` (a figure-level function with similar flexibility) or `histplot` (an axes-level function for histograms).\n",
            "  warnings.warn(msg, FutureWarning)\n",
            "/usr/local/lib/python3.7/dist-packages/seaborn/distributions.py:2557: FutureWarning: `distplot` is a deprecated function and will be removed in a future version. Please adapt your code to use either `displot` (a figure-level function with similar flexibility) or `histplot` (an axes-level function for histograms).\n",
            "  warnings.warn(msg, FutureWarning)\n",
            "/usr/local/lib/python3.7/dist-packages/seaborn/distributions.py:2557: FutureWarning: `distplot` is a deprecated function and will be removed in a future version. Please adapt your code to use either `displot` (a figure-level function with similar flexibility) or `histplot` (an axes-level function for histograms).\n",
            "  warnings.warn(msg, FutureWarning)\n",
            "/usr/local/lib/python3.7/dist-packages/seaborn/distributions.py:2557: FutureWarning: `distplot` is a deprecated function and will be removed in a future version. Please adapt your code to use either `displot` (a figure-level function with similar flexibility) or `histplot` (an axes-level function for histograms).\n",
            "  warnings.warn(msg, FutureWarning)\n",
            "/usr/local/lib/python3.7/dist-packages/seaborn/distributions.py:306: UserWarning: Dataset has 0 variance; skipping density estimate.\n",
            "  warnings.warn(msg, UserWarning)\n",
            "/usr/local/lib/python3.7/dist-packages/seaborn/distributions.py:2557: FutureWarning: `distplot` is a deprecated function and will be removed in a future version. Please adapt your code to use either `displot` (a figure-level function with similar flexibility) or `histplot` (an axes-level function for histograms).\n",
            "  warnings.warn(msg, FutureWarning)\n",
            "/usr/local/lib/python3.7/dist-packages/seaborn/distributions.py:306: UserWarning: Dataset has 0 variance; skipping density estimate.\n",
            "  warnings.warn(msg, UserWarning)\n",
            "/usr/local/lib/python3.7/dist-packages/seaborn/distributions.py:2557: FutureWarning: `distplot` is a deprecated function and will be removed in a future version. Please adapt your code to use either `displot` (a figure-level function with similar flexibility) or `histplot` (an axes-level function for histograms).\n",
            "  warnings.warn(msg, FutureWarning)\n",
            "/usr/local/lib/python3.7/dist-packages/seaborn/distributions.py:306: UserWarning: Dataset has 0 variance; skipping density estimate.\n",
            "  warnings.warn(msg, UserWarning)\n",
            "/usr/local/lib/python3.7/dist-packages/seaborn/distributions.py:2557: FutureWarning: `distplot` is a deprecated function and will be removed in a future version. Please adapt your code to use either `displot` (a figure-level function with similar flexibility) or `histplot` (an axes-level function for histograms).\n",
            "  warnings.warn(msg, FutureWarning)\n",
            "/usr/local/lib/python3.7/dist-packages/seaborn/distributions.py:306: UserWarning: Dataset has 0 variance; skipping density estimate.\n",
            "  warnings.warn(msg, UserWarning)\n"
          ],
          "name": "stderr"
        },
        {
          "output_type": "display_data",
          "data": {
            "image/png": "[encoded data removed]",
            "text/plain": [
              "<Figure size 1440x1800 with 13 Axes>"
            ]
          },
          "metadata": {}
        }
      ]
    },
    {
      "cell_type": "markdown",
      "metadata": {
        "id": "2FnySfsUAIZt"
      },
      "source": [
        "Discuss your results with your colleagues.\n"
      ]
    }
  ]
}